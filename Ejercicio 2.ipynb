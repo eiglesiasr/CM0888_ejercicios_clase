{
 "cells": [
  {
   "cell_type": "markdown",
   "metadata": {},
   "source": [
    "# Ejercicios Clase: Álgebra en Ciencia de Datos\n",
    "### Estudiante: Edgard Iglesias Rubio"
   ]
  },
  {
   "cell_type": "markdown",
   "metadata": {},
   "source": [
    "## Unidad 1\n",
    "### Análisis de tópicos"
   ]
  },
  {
   "cell_type": "markdown",
   "metadata": {},
   "source": [
    "1. Realice entre 5 y 10 consultas sobre temas distintos en el portal CREA | Real Academia Española, cada consulta debe retornar al menos 50 concordancias. Construya una matriz de frecuencia de términos a partir de esas consultas. Es necesario guardar tanto el vocabulario como la matríz. "
   ]
  },
  {
   "cell_type": "code",
   "execution_count": 1,
   "metadata": {},
   "outputs": [
    {
     "name": "stdout",
     "output_type": "stream",
     "text": [
      "Requirement already satisfied: nltk in c:\\users\\edgar\\bowproject\\bow\\lib\\site-packages (3.8.1)\n",
      "Requirement already satisfied: click in c:\\users\\edgar\\bowproject\\bow\\lib\\site-packages (from nltk) (8.1.7)\n",
      "Requirement already satisfied: joblib in c:\\users\\edgar\\bowproject\\bow\\lib\\site-packages (from nltk) (1.3.2)\n",
      "Requirement already satisfied: regex>=2021.8.3 in c:\\users\\edgar\\bowproject\\bow\\lib\\site-packages (from nltk) (2024.4.16)\n",
      "Requirement already satisfied: tqdm in c:\\users\\edgar\\bowproject\\bow\\lib\\site-packages (from nltk) (4.66.4)\n",
      "Requirement already satisfied: colorama in c:\\users\\edgar\\bowproject\\bow\\lib\\site-packages (from click->nltk) (0.4.6)\n",
      "Requirement already satisfied: importlib-metadata in c:\\users\\edgar\\bowproject\\bow\\lib\\site-packages (from click->nltk) (6.7.0)\n",
      "Requirement already satisfied: zipp>=0.5 in c:\\users\\edgar\\bowproject\\bow\\lib\\site-packages (from importlib-metadata->click->nltk) (3.15.0)\n",
      "Requirement already satisfied: typing-extensions>=3.6.4 in c:\\users\\edgar\\bowproject\\bow\\lib\\site-packages (from importlib-metadata->click->nltk) (4.4.0)\n",
      "Requirement already satisfied: spacy in c:\\users\\edgar\\bowproject\\bow\\lib\\site-packages (3.7.4)\n",
      "Requirement already satisfied: spacy-legacy<3.1.0,>=3.0.11 in c:\\users\\edgar\\bowproject\\bow\\lib\\site-packages (from spacy) (3.0.12)\n",
      "Requirement already satisfied: spacy-loggers<2.0.0,>=1.0.0 in c:\\users\\edgar\\bowproject\\bow\\lib\\site-packages (from spacy) (1.0.5)\n",
      "Requirement already satisfied: murmurhash<1.1.0,>=0.28.0 in c:\\users\\edgar\\bowproject\\bow\\lib\\site-packages (from spacy) (1.0.10)\n",
      "Requirement already satisfied: cymem<2.1.0,>=2.0.2 in c:\\users\\edgar\\bowproject\\bow\\lib\\site-packages (from spacy) (2.0.8)\n",
      "Requirement already satisfied: preshed<3.1.0,>=3.0.2 in c:\\users\\edgar\\bowproject\\bow\\lib\\site-packages (from spacy) (3.0.9)\n",
      "Requirement already satisfied: thinc<8.3.0,>=8.2.2 in c:\\users\\edgar\\bowproject\\bow\\lib\\site-packages (from spacy) (8.2.3)\n",
      "Requirement already satisfied: wasabi<1.2.0,>=0.9.1 in c:\\users\\edgar\\bowproject\\bow\\lib\\site-packages (from spacy) (1.1.2)\n",
      "Requirement already satisfied: srsly<3.0.0,>=2.4.3 in c:\\users\\edgar\\bowproject\\bow\\lib\\site-packages (from spacy) (2.4.8)\n",
      "Requirement already satisfied: catalogue<2.1.0,>=2.0.6 in c:\\users\\edgar\\bowproject\\bow\\lib\\site-packages (from spacy) (2.0.10)\n",
      "Requirement already satisfied: weasel<0.4.0,>=0.1.0 in c:\\users\\edgar\\bowproject\\bow\\lib\\site-packages (from spacy) (0.3.4)\n",
      "Requirement already satisfied: typer<0.10.0,>=0.3.0 in c:\\users\\edgar\\bowproject\\bow\\lib\\site-packages (from spacy) (0.9.4)\n",
      "Requirement already satisfied: smart-open<7.0.0,>=5.2.1 in c:\\users\\edgar\\bowproject\\bow\\lib\\site-packages (from spacy) (6.4.0)\n",
      "Requirement already satisfied: tqdm<5.0.0,>=4.38.0 in c:\\users\\edgar\\bowproject\\bow\\lib\\site-packages (from spacy) (4.66.4)\n",
      "Requirement already satisfied: requests<3.0.0,>=2.13.0 in c:\\users\\edgar\\bowproject\\bow\\lib\\site-packages (from spacy) (2.31.0)\n",
      "Requirement already satisfied: pydantic!=1.8,!=1.8.1,<3.0.0,>=1.7.4 in c:\\users\\edgar\\bowproject\\bow\\lib\\site-packages (from spacy) (1.10.15)\n",
      "Requirement already satisfied: jinja2 in c:\\users\\edgar\\bowproject\\bow\\lib\\site-packages (from spacy) (3.1.4)\n",
      "Requirement already satisfied: setuptools in c:\\users\\edgar\\bowproject\\bow\\lib\\site-packages (from spacy) (68.0.0)\n",
      "Requirement already satisfied: packaging>=20.0 in c:\\users\\edgar\\bowproject\\bow\\lib\\site-packages (from spacy) (24.0)\n",
      "Requirement already satisfied: langcodes<4.0.0,>=3.2.0 in c:\\users\\edgar\\bowproject\\bow\\lib\\site-packages (from spacy) (3.3.0)\n",
      "Requirement already satisfied: typing-extensions<4.5.0,>=3.7.4.1 in c:\\users\\edgar\\bowproject\\bow\\lib\\site-packages (from spacy) (4.4.0)\n",
      "Requirement already satisfied: numpy>=1.15.0 in c:\\users\\edgar\\bowproject\\bow\\lib\\site-packages (from spacy) (1.21.6)\n",
      "Requirement already satisfied: zipp>=0.5 in c:\\users\\edgar\\bowproject\\bow\\lib\\site-packages (from catalogue<2.1.0,>=2.0.6->spacy) (3.15.0)\n",
      "Requirement already satisfied: charset-normalizer<4,>=2 in c:\\users\\edgar\\bowproject\\bow\\lib\\site-packages (from requests<3.0.0,>=2.13.0->spacy) (3.3.2)\n",
      "Requirement already satisfied: idna<4,>=2.5 in c:\\users\\edgar\\bowproject\\bow\\lib\\site-packages (from requests<3.0.0,>=2.13.0->spacy) (3.7)\n",
      "Requirement already satisfied: urllib3<3,>=1.21.1 in c:\\users\\edgar\\bowproject\\bow\\lib\\site-packages (from requests<3.0.0,>=2.13.0->spacy) (2.0.7)\n",
      "Requirement already satisfied: certifi>=2017.4.17 in c:\\users\\edgar\\bowproject\\bow\\lib\\site-packages (from requests<3.0.0,>=2.13.0->spacy) (2024.2.2)\n",
      "Requirement already satisfied: blis<0.8.0,>=0.7.8 in c:\\users\\edgar\\bowproject\\bow\\lib\\site-packages (from thinc<8.3.0,>=8.2.2->spacy) (0.7.11)\n",
      "Requirement already satisfied: confection<1.0.0,>=0.0.1 in c:\\users\\edgar\\bowproject\\bow\\lib\\site-packages (from thinc<8.3.0,>=8.2.2->spacy) (0.1.4)\n",
      "Requirement already satisfied: colorama in c:\\users\\edgar\\bowproject\\bow\\lib\\site-packages (from tqdm<5.0.0,>=4.38.0->spacy) (0.4.6)\n",
      "Requirement already satisfied: click<9.0.0,>=7.1.1 in c:\\users\\edgar\\bowproject\\bow\\lib\\site-packages (from typer<0.10.0,>=0.3.0->spacy) (8.1.7)\n",
      "Requirement already satisfied: cloudpathlib<0.17.0,>=0.7.0 in c:\\users\\edgar\\bowproject\\bow\\lib\\site-packages (from weasel<0.4.0,>=0.1.0->spacy) (0.16.0)\n",
      "Requirement already satisfied: MarkupSafe>=2.0 in c:\\users\\edgar\\bowproject\\bow\\lib\\site-packages (from jinja2->spacy) (2.1.5)\n",
      "Requirement already satisfied: importlib-metadata in c:\\users\\edgar\\bowproject\\bow\\lib\\site-packages (from click<9.0.0,>=7.1.1->typer<0.10.0,>=0.3.0->spacy) (6.7.0)\n",
      "Requirement already satisfied: unidecode in c:\\users\\edgar\\bowproject\\bow\\lib\\site-packages (1.3.8)\n",
      "Collecting es-core-news-md==3.7.0\n",
      "  Downloading https://github.com/explosion/spacy-models/releases/download/es_core_news_md-3.7.0/es_core_news_md-3.7.0-py3-none-any.whl (42.3 MB)\n",
      "     --------------------------------------- 42.3/42.3 MB 13.6 MB/s eta 0:00:00\n",
      "Requirement already satisfied: spacy<3.8.0,>=3.7.0 in c:\\users\\edgar\\bowproject\\bow\\lib\\site-packages (from es-core-news-md==3.7.0) (3.7.4)\n",
      "Requirement already satisfied: spacy-legacy<3.1.0,>=3.0.11 in c:\\users\\edgar\\bowproject\\bow\\lib\\site-packages (from spacy<3.8.0,>=3.7.0->es-core-news-md==3.7.0) (3.0.12)\n",
      "Requirement already satisfied: spacy-loggers<2.0.0,>=1.0.0 in c:\\users\\edgar\\bowproject\\bow\\lib\\site-packages (from spacy<3.8.0,>=3.7.0->es-core-news-md==3.7.0) (1.0.5)\n",
      "Requirement already satisfied: murmurhash<1.1.0,>=0.28.0 in c:\\users\\edgar\\bowproject\\bow\\lib\\site-packages (from spacy<3.8.0,>=3.7.0->es-core-news-md==3.7.0) (1.0.10)\n",
      "Requirement already satisfied: cymem<2.1.0,>=2.0.2 in c:\\users\\edgar\\bowproject\\bow\\lib\\site-packages (from spacy<3.8.0,>=3.7.0->es-core-news-md==3.7.0) (2.0.8)\n",
      "Requirement already satisfied: preshed<3.1.0,>=3.0.2 in c:\\users\\edgar\\bowproject\\bow\\lib\\site-packages (from spacy<3.8.0,>=3.7.0->es-core-news-md==3.7.0) (3.0.9)\n",
      "Requirement already satisfied: thinc<8.3.0,>=8.2.2 in c:\\users\\edgar\\bowproject\\bow\\lib\\site-packages (from spacy<3.8.0,>=3.7.0->es-core-news-md==3.7.0) (8.2.3)\n",
      "Requirement already satisfied: wasabi<1.2.0,>=0.9.1 in c:\\users\\edgar\\bowproject\\bow\\lib\\site-packages (from spacy<3.8.0,>=3.7.0->es-core-news-md==3.7.0) (1.1.2)\n",
      "Requirement already satisfied: srsly<3.0.0,>=2.4.3 in c:\\users\\edgar\\bowproject\\bow\\lib\\site-packages (from spacy<3.8.0,>=3.7.0->es-core-news-md==3.7.0) (2.4.8)\n",
      "Requirement already satisfied: catalogue<2.1.0,>=2.0.6 in c:\\users\\edgar\\bowproject\\bow\\lib\\site-packages (from spacy<3.8.0,>=3.7.0->es-core-news-md==3.7.0) (2.0.10)\n",
      "Requirement already satisfied: weasel<0.4.0,>=0.1.0 in c:\\users\\edgar\\bowproject\\bow\\lib\\site-packages (from spacy<3.8.0,>=3.7.0->es-core-news-md==3.7.0) (0.3.4)\n",
      "Requirement already satisfied: typer<0.10.0,>=0.3.0 in c:\\users\\edgar\\bowproject\\bow\\lib\\site-packages (from spacy<3.8.0,>=3.7.0->es-core-news-md==3.7.0) (0.9.4)\n",
      "Requirement already satisfied: smart-open<7.0.0,>=5.2.1 in c:\\users\\edgar\\bowproject\\bow\\lib\\site-packages (from spacy<3.8.0,>=3.7.0->es-core-news-md==3.7.0) (6.4.0)\n",
      "Requirement already satisfied: tqdm<5.0.0,>=4.38.0 in c:\\users\\edgar\\bowproject\\bow\\lib\\site-packages (from spacy<3.8.0,>=3.7.0->es-core-news-md==3.7.0) (4.66.4)\n",
      "Requirement already satisfied: requests<3.0.0,>=2.13.0 in c:\\users\\edgar\\bowproject\\bow\\lib\\site-packages (from spacy<3.8.0,>=3.7.0->es-core-news-md==3.7.0) (2.31.0)\n",
      "Requirement already satisfied: pydantic!=1.8,!=1.8.1,<3.0.0,>=1.7.4 in c:\\users\\edgar\\bowproject\\bow\\lib\\site-packages (from spacy<3.8.0,>=3.7.0->es-core-news-md==3.7.0) (1.10.15)\n",
      "Requirement already satisfied: jinja2 in c:\\users\\edgar\\bowproject\\bow\\lib\\site-packages (from spacy<3.8.0,>=3.7.0->es-core-news-md==3.7.0) (3.1.4)\n",
      "Requirement already satisfied: setuptools in c:\\users\\edgar\\bowproject\\bow\\lib\\site-packages (from spacy<3.8.0,>=3.7.0->es-core-news-md==3.7.0) (68.0.0)\n",
      "Requirement already satisfied: packaging>=20.0 in c:\\users\\edgar\\bowproject\\bow\\lib\\site-packages (from spacy<3.8.0,>=3.7.0->es-core-news-md==3.7.0) (24.0)\n",
      "Requirement already satisfied: langcodes<4.0.0,>=3.2.0 in c:\\users\\edgar\\bowproject\\bow\\lib\\site-packages (from spacy<3.8.0,>=3.7.0->es-core-news-md==3.7.0) (3.3.0)\n",
      "Requirement already satisfied: typing-extensions<4.5.0,>=3.7.4.1 in c:\\users\\edgar\\bowproject\\bow\\lib\\site-packages (from spacy<3.8.0,>=3.7.0->es-core-news-md==3.7.0) (4.4.0)\n",
      "Requirement already satisfied: numpy>=1.15.0 in c:\\users\\edgar\\bowproject\\bow\\lib\\site-packages (from spacy<3.8.0,>=3.7.0->es-core-news-md==3.7.0) (1.21.6)\n",
      "Requirement already satisfied: zipp>=0.5 in c:\\users\\edgar\\bowproject\\bow\\lib\\site-packages (from catalogue<2.1.0,>=2.0.6->spacy<3.8.0,>=3.7.0->es-core-news-md==3.7.0) (3.15.0)\n",
      "Requirement already satisfied: charset-normalizer<4,>=2 in c:\\users\\edgar\\bowproject\\bow\\lib\\site-packages (from requests<3.0.0,>=2.13.0->spacy<3.8.0,>=3.7.0->es-core-news-md==3.7.0) (3.3.2)\n",
      "Requirement already satisfied: idna<4,>=2.5 in c:\\users\\edgar\\bowproject\\bow\\lib\\site-packages (from requests<3.0.0,>=2.13.0->spacy<3.8.0,>=3.7.0->es-core-news-md==3.7.0) (3.7)\n",
      "Requirement already satisfied: urllib3<3,>=1.21.1 in c:\\users\\edgar\\bowproject\\bow\\lib\\site-packages (from requests<3.0.0,>=2.13.0->spacy<3.8.0,>=3.7.0->es-core-news-md==3.7.0) (2.0.7)\n",
      "Requirement already satisfied: certifi>=2017.4.17 in c:\\users\\edgar\\bowproject\\bow\\lib\\site-packages (from requests<3.0.0,>=2.13.0->spacy<3.8.0,>=3.7.0->es-core-news-md==3.7.0) (2024.2.2)\n",
      "Requirement already satisfied: blis<0.8.0,>=0.7.8 in c:\\users\\edgar\\bowproject\\bow\\lib\\site-packages (from thinc<8.3.0,>=8.2.2->spacy<3.8.0,>=3.7.0->es-core-news-md==3.7.0) (0.7.11)\n",
      "Requirement already satisfied: confection<1.0.0,>=0.0.1 in c:\\users\\edgar\\bowproject\\bow\\lib\\site-packages (from thinc<8.3.0,>=8.2.2->spacy<3.8.0,>=3.7.0->es-core-news-md==3.7.0) (0.1.4)\n",
      "Requirement already satisfied: colorama in c:\\users\\edgar\\bowproject\\bow\\lib\\site-packages (from tqdm<5.0.0,>=4.38.0->spacy<3.8.0,>=3.7.0->es-core-news-md==3.7.0) (0.4.6)\n",
      "Requirement already satisfied: click<9.0.0,>=7.1.1 in c:\\users\\edgar\\bowproject\\bow\\lib\\site-packages (from typer<0.10.0,>=0.3.0->spacy<3.8.0,>=3.7.0->es-core-news-md==3.7.0) (8.1.7)\n",
      "Requirement already satisfied: cloudpathlib<0.17.0,>=0.7.0 in c:\\users\\edgar\\bowproject\\bow\\lib\\site-packages (from weasel<0.4.0,>=0.1.0->spacy<3.8.0,>=3.7.0->es-core-news-md==3.7.0) (0.16.0)\n",
      "Requirement already satisfied: MarkupSafe>=2.0 in c:\\users\\edgar\\bowproject\\bow\\lib\\site-packages (from jinja2->spacy<3.8.0,>=3.7.0->es-core-news-md==3.7.0) (2.1.5)\n",
      "Requirement already satisfied: importlib-metadata in c:\\users\\edgar\\bowproject\\bow\\lib\\site-packages (from click<9.0.0,>=7.1.1->typer<0.10.0,>=0.3.0->spacy<3.8.0,>=3.7.0->es-core-news-md==3.7.0) (6.7.0)\n",
      "\u001b[38;5;2m[+] Download and installation successful\u001b[0m\n",
      "You can now load the package via spacy.load('es_core_news_md')\n"
     ]
    }
   ],
   "source": [
    "!pip install nltk\n",
    "!pip install spacy\n",
    "!pip install unidecode\n",
    "!python -m spacy download es_core_news_md"
   ]
  },
  {
   "cell_type": "code",
   "execution_count": 2,
   "metadata": {},
   "outputs": [],
   "source": [
    "#imports\n",
    "import os\n",
    "import pandas as pd\n",
    "import unidecode\n",
    "import numpy as np\n",
    "import re\n",
    "from sklearn.feature_extraction.text import CountVectorizer\n",
    "from random import shuffle\n",
    "import scipy as sp\n",
    "from sklearn.decomposition import NMF\n",
    "\n",
    "#nlp\n",
    "from string import punctuation\n",
    "import spacy\n",
    "nlp = spacy.load('es_core_news_md')\n",
    "from spacy.lang.es import stop_words"
   ]
  },
  {
   "cell_type": "markdown",
   "metadata": {},
   "source": [
    "Cargando archivos descargados desde CREA | Rae hacia un dataframe (6) archivos:"
   ]
  },
  {
   "cell_type": "code",
   "execution_count": 3,
   "metadata": {},
   "outputs": [],
   "source": [
    "ruta_files='filesRAE/'\n",
    "df=pd.DataFrame()\n",
    "for f in os.listdir(ruta_files):\n",
    "    dfaux=pd.read_csv(ruta_files+f,sep='\\t', skiprows=8)\n",
    "    df=pd.concat([df,dfaux])"
   ]
  },
  {
   "cell_type": "code",
   "execution_count": 4,
   "metadata": {
    "scrolled": true
   },
   "outputs": [
    {
     "data": {
      "text/html": [
       "<div>\n",
       "<style scoped>\n",
       "    .dataframe tbody tr th:only-of-type {\n",
       "        vertical-align: middle;\n",
       "    }\n",
       "\n",
       "    .dataframe tbody tr th {\n",
       "        vertical-align: top;\n",
       "    }\n",
       "\n",
       "    .dataframe thead th {\n",
       "        text-align: right;\n",
       "    }\n",
       "</style>\n",
       "<table border=\"1\" class=\"dataframe\">\n",
       "  <thead>\n",
       "    <tr style=\"text-align: right;\">\n",
       "      <th></th>\n",
       "      <th>BIBLIOGRAFÍA</th>\n",
       "      <th>AUTOR</th>\n",
       "      <th>TÍTULO</th>\n",
       "      <th>FECHA</th>\n",
       "      <th>CRITERIO</th>\n",
       "      <th>BLOQUE</th>\n",
       "      <th>MEDIO</th>\n",
       "      <th>SOPORTE</th>\n",
       "      <th>TEMA</th>\n",
       "      <th>PAÍS</th>\n",
       "      <th>ZONA</th>\n",
       "      <th>TIPOLOGÍA</th>\n",
       "      <th>NOTAS</th>\n",
       "      <th>CONCORDANCIA</th>\n",
       "    </tr>\n",
       "  </thead>\n",
       "  <tbody>\n",
       "    <tr>\n",
       "      <th>0</th>\n",
       "      <td>«El CIS había anunciado severos controles para...</td>\n",
       "      <td>NaN</td>\n",
       "      <td>El País</td>\n",
       "      <td>1976</td>\n",
       "      <td>Primera edición</td>\n",
       "      <td>No ficción</td>\n",
       "      <td>Escrito</td>\n",
       "      <td>Prensa</td>\n",
       "      <td>Actualidad, ocio y vida cotidiana</td>\n",
       "      <td>España</td>\n",
       "      <td>NaN</td>\n",
       "      <td>NaN</td>\n",
       "      <td>Mayúsculas no acentuadas en el original</td>\n",
       "      <td>Automovilismo</td>\n",
       "    </tr>\n",
       "    <tr>\n",
       "      <th>1</th>\n",
       "      <td>«Campeón del mundo de fórmula 1». El País. Mad...</td>\n",
       "      <td>NaN</td>\n",
       "      <td>El País</td>\n",
       "      <td>1976</td>\n",
       "      <td>Primera edición</td>\n",
       "      <td>No ficción</td>\n",
       "      <td>Escrito</td>\n",
       "      <td>Prensa</td>\n",
       "      <td>Actualidad, ocio y vida cotidiana</td>\n",
       "      <td>España</td>\n",
       "      <td>NaN</td>\n",
       "      <td>NaN</td>\n",
       "      <td>Mayúsculas no acentuadas en el original</td>\n",
       "      <td>. Los comentarios que hagan algunas revistas a...</td>\n",
       "    </tr>\n",
       "    <tr>\n",
       "      <th>2</th>\n",
       "      <td>«Campeón del mundo de fórmula 1». El País. Mad...</td>\n",
       "      <td>NaN</td>\n",
       "      <td>El País</td>\n",
       "      <td>1976</td>\n",
       "      <td>Primera edición</td>\n",
       "      <td>No ficción</td>\n",
       "      <td>Escrito</td>\n",
       "      <td>Prensa</td>\n",
       "      <td>Actualidad, ocio y vida cotidiana</td>\n",
       "      <td>España</td>\n",
       "      <td>NaN</td>\n",
       "      <td>NaN</td>\n",
       "      <td>Mayúsculas no acentuadas en el original</td>\n",
       "      <td>— ¿Sus ídolos del automovilismo?</td>\n",
       "    </tr>\n",
       "    <tr>\n",
       "      <th>3</th>\n",
       "      <td>«El Wolf WRL, nuevo bólido de fórmula-1». El P...</td>\n",
       "      <td>NaN</td>\n",
       "      <td>El País</td>\n",
       "      <td>1976</td>\n",
       "      <td>Primera edición</td>\n",
       "      <td>No ficción</td>\n",
       "      <td>Escrito</td>\n",
       "      <td>Prensa</td>\n",
       "      <td>Actualidad, ocio y vida cotidiana</td>\n",
       "      <td>España</td>\n",
       "      <td>NaN</td>\n",
       "      <td>NaN</td>\n",
       "      <td>Mayúsculas no acentuadas en el original</td>\n",
       "      <td>Automovilismo</td>\n",
       "    </tr>\n",
       "    <tr>\n",
       "      <th>4</th>\n",
       "      <td>«Ocho elecciones federativas para febrero y ma...</td>\n",
       "      <td>NaN</td>\n",
       "      <td>El País</td>\n",
       "      <td>1977</td>\n",
       "      <td>Primera edición</td>\n",
       "      <td>No ficción</td>\n",
       "      <td>Escrito</td>\n",
       "      <td>Prensa</td>\n",
       "      <td>Actualidad, ocio y vida cotidiana</td>\n",
       "      <td>España</td>\n",
       "      <td>NaN</td>\n",
       "      <td>NaN</td>\n",
       "      <td>Mayúsculas no acentuadas en el original</td>\n",
       "      <td>Durante el mes de febrero las Federaciones Nac...</td>\n",
       "    </tr>\n",
       "  </tbody>\n",
       "</table>\n",
       "</div>"
      ],
      "text/plain": [
       "                                        BIBLIOGRAFÍA AUTOR   TÍTULO  FECHA  \\\n",
       "0  «El CIS había anunciado severos controles para...   NaN  El País   1976   \n",
       "1  «Campeón del mundo de fórmula 1». El País. Mad...   NaN  El País   1976   \n",
       "2  «Campeón del mundo de fórmula 1». El País. Mad...   NaN  El País   1976   \n",
       "3  «El Wolf WRL, nuevo bólido de fórmula-1». El P...   NaN  El País   1976   \n",
       "4  «Ocho elecciones federativas para febrero y ma...   NaN  El País   1977   \n",
       "\n",
       "          CRITERIO      BLOQUE    MEDIO SOPORTE  \\\n",
       "0  Primera edición  No ficción  Escrito  Prensa   \n",
       "1  Primera edición  No ficción  Escrito  Prensa   \n",
       "2  Primera edición  No ficción  Escrito  Prensa   \n",
       "3  Primera edición  No ficción  Escrito  Prensa   \n",
       "4  Primera edición  No ficción  Escrito  Prensa   \n",
       "\n",
       "                                TEMA    PAÍS ZONA  TIPOLOGÍA  \\\n",
       "0  Actualidad, ocio y vida cotidiana  España  NaN        NaN   \n",
       "1  Actualidad, ocio y vida cotidiana  España  NaN        NaN   \n",
       "2  Actualidad, ocio y vida cotidiana  España  NaN        NaN   \n",
       "3  Actualidad, ocio y vida cotidiana  España  NaN        NaN   \n",
       "4  Actualidad, ocio y vida cotidiana  España  NaN        NaN   \n",
       "\n",
       "                                     NOTAS  \\\n",
       "0  Mayúsculas no acentuadas en el original   \n",
       "1  Mayúsculas no acentuadas en el original   \n",
       "2  Mayúsculas no acentuadas en el original   \n",
       "3  Mayúsculas no acentuadas en el original   \n",
       "4  Mayúsculas no acentuadas en el original   \n",
       "\n",
       "                                        CONCORDANCIA  \n",
       "0                                      Automovilismo  \n",
       "1  . Los comentarios que hagan algunas revistas a...  \n",
       "2                   — ¿Sus ídolos del automovilismo?  \n",
       "3                                      Automovilismo  \n",
       "4  Durante el mes de febrero las Federaciones Nac...  "
      ]
     },
     "execution_count": 4,
     "metadata": {},
     "output_type": "execute_result"
    }
   ],
   "source": [
    "df.head()"
   ]
  },
  {
   "cell_type": "code",
   "execution_count": 5,
   "metadata": {},
   "outputs": [],
   "source": [
    "#Creando listas de stop words y de puntuaciones para depurar tokens:\n",
    "stop_words_list = [unidecode.unidecode(word) for word in stop_words.STOP_WORDS]\n",
    "punctuations = list(punctuation)"
   ]
  },
  {
   "cell_type": "code",
   "execution_count": 6,
   "metadata": {},
   "outputs": [],
   "source": [
    "#Funcion que dado un texto retorna un texto tokenizado\n",
    "def tokenizador(text):\n",
    "    text = unidecode.unidecode(text)\n",
    "    tokens = nlp(text)\n",
    "    tokens = [token.lower_ for token in tokens if token.lower_ not in stop_words_list and token.pos_!='PUNCT' and token.is_alpha]\n",
    "    tokens = [re.sub(r'[^A-Za-z0-9]+','',w) for w in tokens]\n",
    "    tokens = [token for token in tokens if token not in punctuations]\n",
    "    \n",
    "    return ' '.join(tokens)"
   ]
  },
  {
   "cell_type": "code",
   "execution_count": 7,
   "metadata": {},
   "outputs": [],
   "source": [
    "#aplicando tokenizador:\n",
    "df['tokens'] = df.apply(lambda row: tokenizador(row['CONCORDANCIA']), axis=1)"
   ]
  },
  {
   "cell_type": "code",
   "execution_count": 8,
   "metadata": {},
   "outputs": [
    {
     "data": {
      "text/html": [
       "<div>\n",
       "<style scoped>\n",
       "    .dataframe tbody tr th:only-of-type {\n",
       "        vertical-align: middle;\n",
       "    }\n",
       "\n",
       "    .dataframe tbody tr th {\n",
       "        vertical-align: top;\n",
       "    }\n",
       "\n",
       "    .dataframe thead th {\n",
       "        text-align: right;\n",
       "    }\n",
       "</style>\n",
       "<table border=\"1\" class=\"dataframe\">\n",
       "  <thead>\n",
       "    <tr style=\"text-align: right;\">\n",
       "      <th></th>\n",
       "      <th>BIBLIOGRAFÍA</th>\n",
       "      <th>AUTOR</th>\n",
       "      <th>TÍTULO</th>\n",
       "      <th>FECHA</th>\n",
       "      <th>CRITERIO</th>\n",
       "      <th>BLOQUE</th>\n",
       "      <th>MEDIO</th>\n",
       "      <th>SOPORTE</th>\n",
       "      <th>TEMA</th>\n",
       "      <th>PAÍS</th>\n",
       "      <th>ZONA</th>\n",
       "      <th>TIPOLOGÍA</th>\n",
       "      <th>NOTAS</th>\n",
       "      <th>CONCORDANCIA</th>\n",
       "      <th>tokens</th>\n",
       "    </tr>\n",
       "  </thead>\n",
       "  <tbody>\n",
       "    <tr>\n",
       "      <th>0</th>\n",
       "      <td>«El CIS había anunciado severos controles para...</td>\n",
       "      <td>NaN</td>\n",
       "      <td>El País</td>\n",
       "      <td>1976</td>\n",
       "      <td>Primera edición</td>\n",
       "      <td>No ficción</td>\n",
       "      <td>Escrito</td>\n",
       "      <td>Prensa</td>\n",
       "      <td>Actualidad, ocio y vida cotidiana</td>\n",
       "      <td>España</td>\n",
       "      <td>NaN</td>\n",
       "      <td>NaN</td>\n",
       "      <td>Mayúsculas no acentuadas en el original</td>\n",
       "      <td>Automovilismo</td>\n",
       "      <td>automovilismo</td>\n",
       "    </tr>\n",
       "    <tr>\n",
       "      <th>1</th>\n",
       "      <td>«Campeón del mundo de fórmula 1». El País. Mad...</td>\n",
       "      <td>NaN</td>\n",
       "      <td>El País</td>\n",
       "      <td>1976</td>\n",
       "      <td>Primera edición</td>\n",
       "      <td>No ficción</td>\n",
       "      <td>Escrito</td>\n",
       "      <td>Prensa</td>\n",
       "      <td>Actualidad, ocio y vida cotidiana</td>\n",
       "      <td>España</td>\n",
       "      <td>NaN</td>\n",
       "      <td>NaN</td>\n",
       "      <td>Mayúsculas no acentuadas en el original</td>\n",
       "      <td>. Los comentarios que hagan algunas revistas a...</td>\n",
       "      <td>comentarios hagan revistas acerca persona inte...</td>\n",
       "    </tr>\n",
       "    <tr>\n",
       "      <th>2</th>\n",
       "      <td>«Campeón del mundo de fórmula 1». El País. Mad...</td>\n",
       "      <td>NaN</td>\n",
       "      <td>El País</td>\n",
       "      <td>1976</td>\n",
       "      <td>Primera edición</td>\n",
       "      <td>No ficción</td>\n",
       "      <td>Escrito</td>\n",
       "      <td>Prensa</td>\n",
       "      <td>Actualidad, ocio y vida cotidiana</td>\n",
       "      <td>España</td>\n",
       "      <td>NaN</td>\n",
       "      <td>NaN</td>\n",
       "      <td>Mayúsculas no acentuadas en el original</td>\n",
       "      <td>— ¿Sus ídolos del automovilismo?</td>\n",
       "      <td>idolos automovilismo</td>\n",
       "    </tr>\n",
       "    <tr>\n",
       "      <th>3</th>\n",
       "      <td>«El Wolf WRL, nuevo bólido de fórmula-1». El P...</td>\n",
       "      <td>NaN</td>\n",
       "      <td>El País</td>\n",
       "      <td>1976</td>\n",
       "      <td>Primera edición</td>\n",
       "      <td>No ficción</td>\n",
       "      <td>Escrito</td>\n",
       "      <td>Prensa</td>\n",
       "      <td>Actualidad, ocio y vida cotidiana</td>\n",
       "      <td>España</td>\n",
       "      <td>NaN</td>\n",
       "      <td>NaN</td>\n",
       "      <td>Mayúsculas no acentuadas en el original</td>\n",
       "      <td>Automovilismo</td>\n",
       "      <td>automovilismo</td>\n",
       "    </tr>\n",
       "    <tr>\n",
       "      <th>4</th>\n",
       "      <td>«Ocho elecciones federativas para febrero y ma...</td>\n",
       "      <td>NaN</td>\n",
       "      <td>El País</td>\n",
       "      <td>1977</td>\n",
       "      <td>Primera edición</td>\n",
       "      <td>No ficción</td>\n",
       "      <td>Escrito</td>\n",
       "      <td>Prensa</td>\n",
       "      <td>Actualidad, ocio y vida cotidiana</td>\n",
       "      <td>España</td>\n",
       "      <td>NaN</td>\n",
       "      <td>NaN</td>\n",
       "      <td>Mayúsculas no acentuadas en el original</td>\n",
       "      <td>Durante el mes de febrero las Federaciones Nac...</td>\n",
       "      <td>mes febrero federaciones nacionales balonmano ...</td>\n",
       "    </tr>\n",
       "  </tbody>\n",
       "</table>\n",
       "</div>"
      ],
      "text/plain": [
       "                                        BIBLIOGRAFÍA AUTOR   TÍTULO  FECHA  \\\n",
       "0  «El CIS había anunciado severos controles para...   NaN  El País   1976   \n",
       "1  «Campeón del mundo de fórmula 1». El País. Mad...   NaN  El País   1976   \n",
       "2  «Campeón del mundo de fórmula 1». El País. Mad...   NaN  El País   1976   \n",
       "3  «El Wolf WRL, nuevo bólido de fórmula-1». El P...   NaN  El País   1976   \n",
       "4  «Ocho elecciones federativas para febrero y ma...   NaN  El País   1977   \n",
       "\n",
       "          CRITERIO      BLOQUE    MEDIO SOPORTE  \\\n",
       "0  Primera edición  No ficción  Escrito  Prensa   \n",
       "1  Primera edición  No ficción  Escrito  Prensa   \n",
       "2  Primera edición  No ficción  Escrito  Prensa   \n",
       "3  Primera edición  No ficción  Escrito  Prensa   \n",
       "4  Primera edición  No ficción  Escrito  Prensa   \n",
       "\n",
       "                                TEMA    PAÍS ZONA  TIPOLOGÍA  \\\n",
       "0  Actualidad, ocio y vida cotidiana  España  NaN        NaN   \n",
       "1  Actualidad, ocio y vida cotidiana  España  NaN        NaN   \n",
       "2  Actualidad, ocio y vida cotidiana  España  NaN        NaN   \n",
       "3  Actualidad, ocio y vida cotidiana  España  NaN        NaN   \n",
       "4  Actualidad, ocio y vida cotidiana  España  NaN        NaN   \n",
       "\n",
       "                                     NOTAS  \\\n",
       "0  Mayúsculas no acentuadas en el original   \n",
       "1  Mayúsculas no acentuadas en el original   \n",
       "2  Mayúsculas no acentuadas en el original   \n",
       "3  Mayúsculas no acentuadas en el original   \n",
       "4  Mayúsculas no acentuadas en el original   \n",
       "\n",
       "                                        CONCORDANCIA  \\\n",
       "0                                      Automovilismo   \n",
       "1  . Los comentarios que hagan algunas revistas a...   \n",
       "2                   — ¿Sus ídolos del automovilismo?   \n",
       "3                                      Automovilismo   \n",
       "4  Durante el mes de febrero las Federaciones Nac...   \n",
       "\n",
       "                                              tokens  \n",
       "0                                      automovilismo  \n",
       "1  comentarios hagan revistas acerca persona inte...  \n",
       "2                               idolos automovilismo  \n",
       "3                                      automovilismo  \n",
       "4  mes febrero federaciones nacionales balonmano ...  "
      ]
     },
     "execution_count": 8,
     "metadata": {},
     "output_type": "execute_result"
    }
   ],
   "source": [
    "df.head()"
   ]
  },
  {
   "cell_type": "code",
   "execution_count": 9,
   "metadata": {
    "scrolled": true
   },
   "outputs": [
    {
     "name": "stdout",
     "output_type": "stream",
     "text": [
      "Número de documentos: 2592, Tamaño Vocabulario: 8281\n"
     ]
    }
   ],
   "source": [
    "#generando BoW\n",
    "vectorizer = CountVectorizer(min_df=2)\n",
    "bow = vectorizer.fit_transform(df['tokens'])\n",
    "print(\"Número de documentos: {docs}, Tamaño Vocabulario: {voc}\".format(docs=bow.shape[0], voc=bow.shape[1]))"
   ]
  },
  {
   "cell_type": "code",
   "execution_count": 10,
   "metadata": {},
   "outputs": [],
   "source": [
    "#Intercambiando filas\n",
    "indices = np.arange(bow.shape[0]) # obtener los indices de las columnas\n",
    "shuffle(indices) #mover aleatoreamente\n",
    "bow_shuffled = bow[list(indices)]"
   ]
  },
  {
   "cell_type": "code",
   "execution_count": 11,
   "metadata": {},
   "outputs": [],
   "source": [
    "#Bow es una matriz dispersa la cual guardaremos en formato npz\n",
    "sp.sparse.save_npz('bow_sparse.npz', bow_shuffled)"
   ]
  },
  {
   "cell_type": "code",
   "execution_count": 12,
   "metadata": {},
   "outputs": [],
   "source": [
    "#El vocabulario es una lista la cual guardaremos en formato npy\n",
    "vocabulary = vectorizer.get_feature_names()\n",
    "np.save('vocabularioBoW',vocabulary, allow_pickle=True)"
   ]
  },
  {
   "cell_type": "markdown",
   "metadata": {},
   "source": [
    "2. Realice un análisis de tópicos usando una factorización no negativa (NMF) de la matriz construida en el punto anterior, el análisis busca recuperar los términos usados para la consulta y debe poder replicarse con la matriz y vocabulario generados por otra persona."
   ]
  },
  {
   "cell_type": "markdown",
   "metadata": {},
   "source": [
    "Si el bow esta en formato npz y el vocabulario en formato npy, se podran cargar los archivos de otra persona"
   ]
  },
  {
   "cell_type": "code",
   "execution_count": 13,
   "metadata": {},
   "outputs": [],
   "source": [
    "#cargando bow y vocabulario\n",
    "\n",
    "bow = sp.sparse.load_npz('bow_sparse.npz')\n",
    "voc = np.load('vocabularioBoW.npy', allow_pickle=True)"
   ]
  },
  {
   "cell_type": "code",
   "execution_count": 14,
   "metadata": {},
   "outputs": [
    {
     "data": {
      "text/plain": [
       "<2592x8281 sparse matrix of type '<class 'numpy.int64'>'\n",
       "\twith 52055 stored elements in Compressed Sparse Row format>"
      ]
     },
     "execution_count": 14,
     "metadata": {},
     "output_type": "execute_result"
    }
   ],
   "source": [
    "bow"
   ]
  },
  {
   "cell_type": "code",
   "execution_count": 15,
   "metadata": {},
   "outputs": [
    {
     "data": {
      "text/plain": [
       "array(['ab', 'abajo', 'abandonada', ..., 'zumbido', 'zurich', 'zurrido'],\n",
       "      dtype='<U18')"
      ]
     },
     "execution_count": 15,
     "metadata": {},
     "output_type": "execute_result"
    }
   ],
   "source": [
    "voc"
   ]
  },
  {
   "cell_type": "markdown",
   "metadata": {},
   "source": [
    "Extracción de Tópicos a través de NMF, siguiendo esta estratégia:"
   ]
  },
  {
   "cell_type": "markdown",
   "metadata": {},
   "source": [
    "![NMF](img/NMF.png)"
   ]
  },
  {
   "cell_type": "code",
   "execution_count": 16,
   "metadata": {},
   "outputs": [],
   "source": [
    "# Probando para k=5\n",
    "k = 5 # numero de topicos\n",
    "bowT=bow.transpose()\n",
    "nmf_model = NMF(n_components=k, init='random', random_state=42)  # Initialize NMF model\n",
    "W = nmf_model.fit_transform(bowT)  # Matrix W\n",
    "H = nmf_model.components_  # Matrix H"
   ]
  },
  {
   "cell_type": "code",
   "execution_count": 17,
   "metadata": {},
   "outputs": [],
   "source": [
    "#funcion para identificar el top de tokens por topicos de la matriz W\n",
    "def get_topics(df_W,vocBoWLoad,top_n):\n",
    "  for i in df_W.columns:\n",
    "    index_list=df_W[i].nlargest(top_n).index.to_list()\n",
    "    tokens = [vocBoWLoad[j] for j in index_list]\n",
    "    print('Topic {i}: {tokens}'.format(i=i,tokens=tokens))"
   ]
  },
  {
   "cell_type": "code",
   "execution_count": 18,
   "metadata": {},
   "outputs": [
    {
     "name": "stdout",
     "output_type": "stream",
     "text": [
      "Topic 0: ['motor', 'coche', 'marcha', 'automovil', 'ruido']\n",
      "Topic 1: ['neumaticos', 'vehiculos', 'coche', 'tipo', 'carrera']\n",
      "Topic 2: ['escuderia', 'piloto', 'schumacher', 'mundial', 'ferrari']\n",
      "Topic 3: ['automovilismo', 'millones', 'federacion', 'pesetas', 'presidente']\n",
      "Topic 4: ['formula', 'premio', 'mundo', 'circuito', 'ano']\n"
     ]
    }
   ],
   "source": [
    "get_topics(pd.DataFrame(W),voc,5)"
   ]
  },
  {
   "cell_type": "markdown",
   "metadata": {},
   "source": [
    "El top 5 de topicos buscados es: motor, automovilismo, formula, escuderia, neumaticos. Que corresponen al tema principal que busqué sobre Formula 1"
   ]
  }
 ],
 "metadata": {
  "kernelspec": {
   "display_name": "Python 3",
   "language": "python",
   "name": "python3"
  },
  "language_info": {
   "codemirror_mode": {
    "name": "ipython",
    "version": 3
   },
   "file_extension": ".py",
   "mimetype": "text/x-python",
   "name": "python",
   "nbconvert_exporter": "python",
   "pygments_lexer": "ipython3",
   "version": "3.7.6"
  }
 },
 "nbformat": 4,
 "nbformat_minor": 4
}
