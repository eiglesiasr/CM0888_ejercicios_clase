{
 "cells": [
  {
   "cell_type": "markdown",
   "metadata": {},
   "source": [
    "# Ejercicios Clase: Álgebra en Ciencia de Datos\n",
    "### Estudiante: Edgard Iglesias Rubio"
   ]
  },
  {
   "cell_type": "markdown",
   "metadata": {},
   "source": [
    "## Unidad 3\n",
    "### Aproximar valores propios"
   ]
  },
  {
   "cell_type": "markdown",
   "metadata": {},
   "source": [
    "1.Lea sobre el método de potencias para aproximar el valor porpio mayor de una matríz. Realice los dos ejercicios que se encuentran al final de la guía:"
   ]
  },
  {
   "cell_type": "markdown",
   "metadata": {},
   "source": [
    "#### Exercise 1: \n",
    "Let A be the matrix from the Inverse Power Method example: \n",
    "\n",
    "\n",
    "$$\n",
    "A =\n",
    "\\begin{bmatrix}\n",
    "9 & -1 & -3\\\\\n",
    "0 & 6 & 0\\\\\n",
    "-6 & 3 & 6\n",
    "\\end{bmatrix}\n",
    "$$\n",
    "\n",
    "(a) Use the Power Method to approximate the largest eigenvalue λ1. Verify that the exact value of λ1 is 12."
   ]
  },
  {
   "cell_type": "code",
   "execution_count": 1,
   "metadata": {},
   "outputs": [],
   "source": [
    "#imports\n",
    "import numpy as np\n",
    "from scipy.linalg import lu_factor, lu_solve"
   ]
  },
  {
   "cell_type": "code",
   "execution_count": 2,
   "metadata": {},
   "outputs": [
    {
     "name": "stdout",
     "output_type": "stream",
     "text": [
      "El mayor autovalor aproximadamente es: 12.000008583030988\n"
     ]
    }
   ],
   "source": [
    "A = np.array([[9, -1, -3],[0, 6, 0],[-6, 3, 6]])\n",
    "X = np.array([[1],[0],[0]])\n",
    "i=0 #iteraciones\n",
    "epsilon=0.0001\n",
    "MAX_ITERACIONES=100\n",
    "\n",
    "Y = A@X\n",
    "diff = Y - np.linalg.norm(Y)*X\n",
    "\n",
    "while (i<MAX_ITERACIONES and np.linalg.norm(diff)>epsilon):\n",
    "    X=Y\n",
    "    X = X/np.linalg.norm(X)\n",
    "    \n",
    "    Y = A@X\n",
    "    diff = Y - np.linalg.norm(Y)*X\n",
    "    \n",
    "    i+=1\n",
    "    \n",
    "print(\"El mayor autovalor aproximadamente es: {lambd}\".format(lambd=np.linalg.norm(Y)))"
   ]
  },
  {
   "cell_type": "markdown",
   "metadata": {},
   "source": [
    "(b) Apply the Inverse Power Method with a shift of μ=10. Explain why the results differ from those in the example."
   ]
  },
  {
   "cell_type": "code",
   "execution_count": 3,
   "metadata": {},
   "outputs": [
    {
     "name": "stdout",
     "output_type": "stream",
     "text": [
      "El autovalor aproximadamente es: 11.99997253020264\n"
     ]
    }
   ],
   "source": [
    "A = np.array([[9, -1, -3],[0, 6, 0],[-6, 3, 6]])\n",
    "X = np.array([[0],[1],[0]])\n",
    "i=0 #iteraciones\n",
    "epsilon=0.0001\n",
    "MAX_ITERACIONES=100\n",
    "\n",
    "diff=X\n",
    "I=np.eye(3)\n",
    "mu=10\n",
    "A_shifted = A - mu*I\n",
    "LU_factorization = lu_factor(A_shifted)\n",
    "\n",
    "while (i<MAX_ITERACIONES and np.linalg.norm(diff)>epsilon):\n",
    "    X_prev=X\n",
    "    X=lu_solve(LU_factorization,X)\n",
    "    X = X/np.linalg.norm(X)\n",
    "    \n",
    "    diff = X - X_prev\n",
    "    \n",
    "    i+=1\n",
    "    \n",
    "print(\"El autovalor aproximadamente es: {lambd}\".format(lambd=np.linalg.norm(A@X)))"
   ]
  },
  {
   "cell_type": "markdown",
   "metadata": {},
   "source": [
    "En este caso los autovalores de la matriz A son [12,3,6], al darle un parametro μ=10, convergió hacia el autovalor 12 ya que está mas cercano"
   ]
  },
  {
   "cell_type": "markdown",
   "metadata": {},
   "source": [
    "(c) Apply the Inverse Power Method with a shift of μ=7.5 and the initial vector given below. Explain why the sequence of vectors approach the eigenvector corresponding to λ1"
   ]
  },
  {
   "cell_type": "code",
   "execution_count": 4,
   "metadata": {},
   "outputs": [
    {
     "name": "stdout",
     "output_type": "stream",
     "text": [
      "El autovalor aproximadamente es: 10.816653826391969\n"
     ]
    }
   ],
   "source": [
    "A = np.array([[9, -1, -3],[0, 6, 0],[-6, 3, 6]])\n",
    "X = np.array([[1],[0],[0]])\n",
    "i=0 #iteraciones\n",
    "epsilon=0.0001\n",
    "MAX_ITERACIONES=100\n",
    "\n",
    "diff=X\n",
    "I=np.eye(3)\n",
    "mu=7.5\n",
    "A_shifted = A - mu*I\n",
    "LU_factorization = lu_factor(A_shifted)\n",
    "\n",
    "while (i<MAX_ITERACIONES and np.linalg.norm(diff)>epsilon):\n",
    "    X_prev=X\n",
    "    X=lu_solve(LU_factorization,X)\n",
    "    X = X/np.linalg.norm(X)\n",
    "    \n",
    "    diff = X - X_prev\n",
    "    \n",
    "    i+=1\n",
    "    \n",
    "print(\"El autovalor aproximadamente es: {lambd}\".format(lambd=np.linalg.norm(A@X)))"
   ]
  },
  {
   "cell_type": "markdown",
   "metadata": {},
   "source": [
    "Se aproximará a λ1 debido al vector X que se ha escogido que tenderá a hacer 0 los otros autovalores λ y buscará el primero más aproximado, en este caso λ1. Si se utilizara X=[0,1,0] bajo la misma configuracion del algoritmo se aproximaría a λ2"
   ]
  },
  {
   "cell_type": "markdown",
   "metadata": {},
   "source": [
    "#### Exercise 2: \n",
    "Let B be the following matrix:\n",
    "\n",
    "\n",
    "$$\n",
    "A =\n",
    "\\begin{bmatrix}\n",
    "-2 & -18 & 6\\\\\n",
    "-11 & 3 & 11\\\\\n",
    "-27 & 15 & 31\n",
    "\\end{bmatrix}\n",
    "$$\n",
    "\n",
    "\n",
    "(a) Apply the Power Method and Inverse Power Method with shifts to approximate all eigenvalues of the matrix B. (Note that one of the eigenvalues of this matrix is negative)"
   ]
  },
  {
   "cell_type": "code",
   "execution_count": 5,
   "metadata": {},
   "outputs": [
    {
     "name": "stdout",
     "output_type": "stream",
     "text": [
      "El mayor autovalor aproximadamente es: 35.9999767900754\n"
     ]
    }
   ],
   "source": [
    "B = np.array([[-2, -18, 6],[-11, 3, 11],[-27, 15, 31]])\n",
    "X = np.array([[1],[0],[0]])\n",
    "i=0 #iteraciones\n",
    "epsilon=0.0001\n",
    "MAX_ITERACIONES=100\n",
    "\n",
    "Y = B@X\n",
    "diff = Y - np.linalg.norm(Y)*X\n",
    "\n",
    "while (i<MAX_ITERACIONES and np.linalg.norm(diff)>epsilon):\n",
    "    X=Y\n",
    "    X = X/np.linalg.norm(X)\n",
    "    \n",
    "    Y = B@X\n",
    "    diff = Y - np.linalg.norm(Y)*X\n",
    "    \n",
    "    i+=1\n",
    "    \n",
    "print(\"El mayor autovalor aproximadamente es: {lambd}\".format(lambd=np.linalg.norm(Y)))"
   ]
  },
  {
   "cell_type": "code",
   "execution_count": 6,
   "metadata": {},
   "outputs": [
    {
     "name": "stdout",
     "output_type": "stream",
     "text": [
      "El autovalor aproximadamente es: 4.000549345743138\n"
     ]
    }
   ],
   "source": [
    "B = np.array([[-2, -18, 6],[-11, 3, 11],[-27, 15, 31]])\n",
    "X = np.array([[0],[1],[0]])\n",
    "i=0 #iteraciones\n",
    "epsilon=0.0001\n",
    "MAX_ITERACIONES=100\n",
    "\n",
    "diff=X\n",
    "LU_factorization = lu_factor(B)\n",
    "\n",
    "while (i<MAX_ITERACIONES and np.linalg.norm(diff)>epsilon):\n",
    "    X_prev=X\n",
    "    X=lu_solve(LU_factorization,X)\n",
    "    X = X/np.linalg.norm(X)\n",
    "    \n",
    "    diff = X - X_prev\n",
    "    \n",
    "    i+=1\n",
    "    \n",
    "print(\"El autovalor aproximadamente es: {lambd}\".format(lambd=np.linalg.norm(B@X)))"
   ]
  },
  {
   "cell_type": "code",
   "execution_count": 7,
   "metadata": {},
   "outputs": [
    {
     "name": "stdout",
     "output_type": "stream",
     "text": [
      "El autovalor aproximadamente es: 8.00360976533596\n"
     ]
    }
   ],
   "source": [
    "B = np.array([[-2, -18, 6],[-11, 3, 11],[-27, 15, 31]])\n",
    "X = np.array([[0],[0],[1]])\n",
    "i=0 #iteraciones\n",
    "epsilon=0.0001\n",
    "MAX_ITERACIONES=100\n",
    "\n",
    "diff=X\n",
    "I=np.eye(3)\n",
    "mu=-32\n",
    "B_shifted = B - mu*I\n",
    "LU_factorization = lu_factor(B_shifted)\n",
    "\n",
    "while (i<MAX_ITERACIONES and np.linalg.norm(diff)>epsilon):\n",
    "    X_prev=X\n",
    "    X=lu_solve(LU_factorization,X)\n",
    "    X = X/np.linalg.norm(X)\n",
    "    \n",
    "    diff = X - X_prev\n",
    "    \n",
    "    i+=1\n",
    "    \n",
    "print(\"El autovalor aproximadamente es: {lambd}\".format(lambd=np.linalg.norm(B@X)))"
   ]
  },
  {
   "cell_type": "markdown",
   "metadata": {},
   "source": [
    "Los autovalores de B son aproximadamente: [32,4,-8]"
   ]
  },
  {
   "cell_type": "markdown",
   "metadata": {},
   "source": [
    "(b) Check your results using the eig function in SciPy."
   ]
  },
  {
   "cell_type": "code",
   "execution_count": 8,
   "metadata": {},
   "outputs": [
    {
     "data": {
      "text/plain": [
       "(array([36., -8.,  4.]),\n",
       " array([[ 1.02854624e-17, -8.16496581e-01,  7.07106781e-01],\n",
       "        [-3.16227766e-01, -4.08248290e-01,  1.89360275e-16],\n",
       "        [-9.48683298e-01, -4.08248290e-01,  7.07106781e-01]]))"
      ]
     },
     "execution_count": 8,
     "metadata": {},
     "output_type": "execute_result"
    }
   ],
   "source": [
    "np.linalg.eig(B)"
   ]
  },
  {
   "cell_type": "markdown",
   "metadata": {},
   "source": [
    "2. Cácule los valores propios y los valores singulares para las siguientes matrices:\n",
    "\n",
    "$$A =\n",
    "\\begin{bmatrix}\n",
    "0 & 1 & 0 & 0\\\\\n",
    "0 & 0 & 2 & 0\\\\\n",
    "0 & 0 & 0 & 3\\\\\n",
    "0 & 0 & 0 & 0\n",
    "\\end{bmatrix}\n",
    "$$\n",
    "\n",
    "$$\n",
    "B = \n",
    "\\begin{bmatrix}\n",
    "0 & 1 & 0 & 0\\\\\n",
    "0 & 0 & 2 & 0\\\\\n",
    "0 & 0 & 0 & 3\\\\\n",
    "0.001 & 0 & 0 & 0\n",
    "\\end{bmatrix}$$"
   ]
  },
  {
   "cell_type": "code",
   "execution_count": 9,
   "metadata": {},
   "outputs": [],
   "source": [
    "A = np.array([[0, 1, 0, 0],[0, 0, 2, 0],[0, 0, 0, 3],[0, 0, 0, 0]])\n",
    "#Valores singulares\n",
    "_, Vsingulares, _ = np.linalg.svd(A)\n",
    "#Valores propios\n",
    "Vpropios=np.linalg.eigvals(A)"
   ]
  },
  {
   "cell_type": "code",
   "execution_count": 10,
   "metadata": {},
   "outputs": [
    {
     "data": {
      "text/plain": [
       "array([3., 2., 1., 0.])"
      ]
     },
     "execution_count": 10,
     "metadata": {},
     "output_type": "execute_result"
    }
   ],
   "source": [
    "Vsingulares"
   ]
  },
  {
   "cell_type": "code",
   "execution_count": 11,
   "metadata": {},
   "outputs": [
    {
     "data": {
      "text/plain": [
       "array([0., 0., 0., 0.])"
      ]
     },
     "execution_count": 11,
     "metadata": {},
     "output_type": "execute_result"
    }
   ],
   "source": [
    "Vpropios"
   ]
  },
  {
   "cell_type": "markdown",
   "metadata": {},
   "source": [
    "A es una matriz singular cuyos valores propios son 0 y sus valores singulares: 3, 2, 1"
   ]
  },
  {
   "cell_type": "code",
   "execution_count": 12,
   "metadata": {},
   "outputs": [],
   "source": [
    "B = np.array([[0, 1, 0, 0],[0, 0, 2, 0],[0, 0, 0, 3],[0.001, 0, 0, 0]])\n",
    "#Valores singulares\n",
    "_, Vsingulares, _ = np.linalg.svd(B)\n",
    "#Valores propios\n",
    "Vpropios=np.linalg.eigvals(B)"
   ]
  },
  {
   "cell_type": "code",
   "execution_count": 13,
   "metadata": {},
   "outputs": [
    {
     "data": {
      "text/plain": [
       "array([3.e+00, 2.e+00, 1.e+00, 1.e-03])"
      ]
     },
     "execution_count": 13,
     "metadata": {},
     "output_type": "execute_result"
    }
   ],
   "source": [
    "Vsingulares"
   ]
  },
  {
   "cell_type": "code",
   "execution_count": 14,
   "metadata": {},
   "outputs": [
    {
     "data": {
      "text/plain": [
       "array([-2.78315768e-01+0.j        , -7.97972799e-17+0.27831577j,\n",
       "       -7.97972799e-17-0.27831577j,  2.78315768e-01+0.j        ])"
      ]
     },
     "execution_count": 14,
     "metadata": {},
     "output_type": "execute_result"
    }
   ],
   "source": [
    "Vpropios"
   ]
  },
  {
   "cell_type": "markdown",
   "metadata": {},
   "source": [
    "B tiene los siguientes valores propios: -0.28,-7e-17 +0.28j, -7e-17 -0.28j, 0.28  y los siguientes valores singulares: 3, 2, 1"
   ]
  }
 ],
 "metadata": {
  "kernelspec": {
   "display_name": "Python 3",
   "language": "python",
   "name": "python3"
  },
  "language_info": {
   "codemirror_mode": {
    "name": "ipython",
    "version": 3
   },
   "file_extension": ".py",
   "mimetype": "text/x-python",
   "name": "python",
   "nbconvert_exporter": "python",
   "pygments_lexer": "ipython3",
   "version": "3.7.6"
  }
 },
 "nbformat": 4,
 "nbformat_minor": 4
}
