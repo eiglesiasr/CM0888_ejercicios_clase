{
 "cells": [
  {
   "cell_type": "markdown",
   "metadata": {},
   "source": [
    "# Ejercicios Clase: Álgebra en Ciencia de Datos\n",
    "### Estudiante: Edgard Iglesias Rubio"
   ]
  },
  {
   "cell_type": "markdown",
   "metadata": {},
   "source": [
    "## Unidad 1\n",
    "### Cadenas de Markov"
   ]
  },
  {
   "cell_type": "markdown",
   "metadata": {},
   "source": [
    "1 Modelo SIR: Un epidemiólogo elaboró el siguiente grafo para describir la transición, de una semana a otra, entre los estados \"Susceptible\", \"Infectado\" y \" Recuperado\" en una población donde se desarrolla una epidemia. Si inicialmente toda la población es suceptible, ¿Qué proporción de la población va a estar en cada estado luego de n semanas?"
   ]
  },
  {
   "cell_type": "markdown",
   "metadata": {},
   "source": [
    "![modeloSIR](img/modeloSIR.png)"
   ]
  },
  {
   "cell_type": "code",
   "execution_count": 1,
   "metadata": {},
   "outputs": [],
   "source": [
    "#imports \n",
    "import numpy as np\n",
    "import matplotlib.pyplot as plt\n",
    "import random"
   ]
  },
  {
   "cell_type": "markdown",
   "metadata": {},
   "source": [
    "Este ejercicio lo discutimos y lo resolvimos en clase con un grupo de compañeros entre ellos: Laura González, Diego Rangel, Manuela Ramos, Harold Díaz...\n",
    "\n",
    "Planteamos al ejercicio como un vector 1x3 donde esta el estado actual de la población y una matriz 3x3 que representa al modelo SIR, en las filas tenemos el nodo origen (estado actual) y en las columnas el nodo destino (o estado siguiente). Al multiplicar el vector por la matriz obtenes como resultado un vector de 1x3 con la nueva distribución de la población."
   ]
  },
  {
   "cell_type": "code",
   "execution_count": 2,
   "metadata": {},
   "outputs": [],
   "source": [
    "m_modelo=[[0.8,0.2,0.0],\n",
    "          [0.0,0.5,0.5],\n",
    "          [0.9,0.0,0.1]]"
   ]
  },
  {
   "cell_type": "markdown",
   "metadata": {},
   "source": [
    "Iteraremos sobre el modelo unas cuantas veces para luego identificar si converge hacia un valor que podamos expresar en función de n"
   ]
  },
  {
   "cell_type": "code",
   "execution_count": 3,
   "metadata": {},
   "outputs": [],
   "source": [
    "S = [] \n",
    "I = []\n",
    "R = []\n",
    "\n",
    "v_pob=[1.0,0.0,0.0]\n",
    "\n",
    "for i in range(0,40):\n",
    "    S.append(v_pob[0])\n",
    "    I.append(v_pob[1])\n",
    "    R.append(v_pob[2])\n",
    "    v_pob = np.dot(v_pob,m_modelo)"
   ]
  },
  {
   "cell_type": "code",
   "execution_count": 4,
   "metadata": {},
   "outputs": [
    {
     "data": {
      "image/png": "[encoded data removed]",
      "text/plain": [
       "<Figure size 432x288 with 1 Axes>"
      ]
     },
     "metadata": {
      "needs_background": "light"
     },
     "output_type": "display_data"
    }
   ],
   "source": [
    "# Graficar los resultados\n",
    "plt.plot(range(len(S)), S, label='Susceptible', color='blue')\n",
    "plt.plot(range(len(I)), I, label='Infectado', color='red')\n",
    "plt.plot(range(len(R)), R, label='Recuperado', color='green')\n",
    "plt.xlabel('Valor de n')\n",
    "plt.ylabel('Proporción Población')\n",
    "plt.title('Evolución de la epidemia')\n",
    "plt.legend()\n",
    "plt.show()"
   ]
  },
  {
   "cell_type": "code",
   "execution_count": 5,
   "metadata": {},
   "outputs": [
    {
     "data": {
      "text/plain": [
       "array([0.61643836, 0.24657534, 0.1369863 ])"
      ]
     },
     "execution_count": 5,
     "metadata": {},
     "output_type": "execute_result"
    }
   ],
   "source": [
    "v_pob"
   ]
  },
  {
   "cell_type": "markdown",
   "metadata": {},
   "source": [
    "Efectivamente un poco antes de la 5ta iteración el modelo se estabiliza, luego de n semanas la proporción de la población quedará de la siguiente forma:\n",
    "- Susceptible: 0.6164\n",
    "- Infectado: 0.2466\n",
    "- Recuperado: 0.1370"
   ]
  },
  {
   "cell_type": "markdown",
   "metadata": {},
   "source": [
    "2. Escaleras y toboganes: El juego consiste en lanzar un dado y avanzar el número de casillas que indique el dado, subiendo por la escalera o bajando por el tobogán si terminas en la celda correspondiente. ¿Cuál es el número esperado de lanzamientos necesarios para llegar a la casilla final?"
   ]
  },
  {
   "cell_type": "markdown",
   "metadata": {},
   "source": [
    "![esctob](img/esctob.png)"
   ]
  },
  {
   "cell_type": "markdown",
   "metadata": {},
   "source": [
    "Este ejercicio lo discutimos y lo planteamos en la primera clase, luego discutimos la solución en conjunto con Harold Diaz y mi persona"
   ]
  },
  {
   "cell_type": "markdown",
   "metadata": {},
   "source": [
    "Planteamos el ejercicio como una matriz cuyas filas representan la casilla inicial y las columnas del 1 al 6 son la casilla a la que llegaremos de acuerdo al número obtenido por el dado.\n",
    "En la matriz las filas que corresponen a la casilla 2, 6 y 7 no tienen valores debido a que no es posible finalizar turno en ellas"
   ]
  },
  {
   "cell_type": "code",
   "execution_count": 6,
   "metadata": {},
   "outputs": [],
   "source": [
    "mat = [[4,3,4,5,8,3],\n",
    "        [],\n",
    "        [4,5,8,3,8,9],\n",
    "        [5,8,3,8,9,9],\n",
    "        [8,3,8,9,9,9],\n",
    "        [],\n",
    "        [],\n",
    "        [9,9,9,9,9,9],\n",
    "        []\n",
    "    ]"
   ]
  },
  {
   "cell_type": "code",
   "execution_count": 7,
   "metadata": {},
   "outputs": [
    {
     "data": {
      "text/plain": [
       "4"
      ]
     },
     "execution_count": 7,
     "metadata": {},
     "output_type": "execute_result"
    }
   ],
   "source": [
    "# si estando en la casilla 1 obtengo 3 en el dado, caigo en la casilla 4:\n",
    "mat[0][2]"
   ]
  },
  {
   "cell_type": "code",
   "execution_count": 8,
   "metadata": {},
   "outputs": [
    {
     "data": {
      "text/plain": [
       "3"
      ]
     },
     "execution_count": 8,
     "metadata": {},
     "output_type": "execute_result"
    }
   ],
   "source": [
    "# si estando en la casilla 4 obtengo 3 en el dado, caigo en la casilla 3:\n",
    "mat[3][2]"
   ]
  },
  {
   "cell_type": "markdown",
   "metadata": {},
   "source": [
    "Planteamos el ejercicio como si fuera un modelo de montecarlo, luego de 1000 simulaciones evaluar el valor esperado de intentos por simulación para llegar a la casilla final:"
   ]
  },
  {
   "cell_type": "code",
   "execution_count": 9,
   "metadata": {},
   "outputs": [],
   "source": [
    "turnos=1\n",
    "casilla_ant=1\n",
    "\n",
    "intentos=[]\n",
    "for i in range(0,1000):\n",
    "    turnos=1\n",
    "    casilla_ant=1\n",
    "    while True:\n",
    "        dado =random.randint(1, 6)\n",
    "        #print('Dado:{dado} turno {turnos}: llegue a casilla: {matrix}'.format(dado=dado,turnos=turnos, matrix=matrix[casilla_ant-1][dado-1]))\n",
    "        casilla = mat[casilla_ant-1][dado-1]\n",
    "        if casilla==9:\n",
    "            intentos.append(turnos)\n",
    "            break\n",
    "        casilla_ant=casilla\n",
    "        turnos+=1"
   ]
  },
  {
   "cell_type": "code",
   "execution_count": 10,
   "metadata": {},
   "outputs": [
    {
     "data": {
      "text/plain": [
       "2.87"
      ]
     },
     "execution_count": 10,
     "metadata": {},
     "output_type": "execute_result"
    }
   ],
   "source": [
    "sum(intentos)/len(intentos)"
   ]
  },
  {
   "cell_type": "markdown",
   "metadata": {},
   "source": [
    "Luego de 1000 simulaciones podemos concluir que el número de intentos en promedio para llegar a la casilla final es de 3"
   ]
  }
 ],
 "metadata": {
  "kernelspec": {
   "display_name": "Python 3",
   "language": "python",
   "name": "python3"
  },
  "language_info": {
   "codemirror_mode": {
    "name": "ipython",
    "version": 3
   },
   "file_extension": ".py",
   "mimetype": "text/x-python",
   "name": "python",
   "nbconvert_exporter": "python",
   "pygments_lexer": "ipython3",
   "version": "3.7.6"
  }
 },
 "nbformat": 4,
 "nbformat_minor": 4
}
